{
 "cells": [
  {
   "cell_type": "markdown",
   "metadata": {},
   "source": [
    "# Goal\n",
    "\n",
    "I'm working with non spatially-referenced images produced from a laser ablation system. Along with the image, the software produces an \"align\" file of the same name - an xml file that contains the XY center point of each image (coordinates are in microns) and the XY size (in microns) along with any rotation. \n",
    "\n",
    "I would like to display the images (we typically generate about 1000 images / day) in their correct relative positions and sizes.\n",
    "\n",
    "The laser has a stage with a cartesian positive XY coordinate system (in microns), and the origin in the SW corner. \n",
    "\n",
    "Is there a way to either turn the images into georeferenced geotiffs (using the information in the xml file)? So far I have gotten to the step of generating an affine transform for each scanned image based on it's size and center coordinate in microns and rotation metadata. What I don't have is a definition of a custom CRS in WKT. I don't have any experience with the WKt format but it seems like the only way to represent non-Earth CRSs.\n",
    "\n",
    "Are there any resources for defining a custom CRS in WKT? I know the units are in microns, the center point of my datum, and the height and width of the coordinate reference system.\n"
   ]
  },
  {
   "cell_type": "markdown",
   "metadata": {},
   "source": [
    "### Matching png paths to metadata paths and extracting the metadata into tabular format"
   ]
  },
  {
   "cell_type": "code",
   "execution_count": 1,
   "metadata": {},
   "outputs": [],
   "source": [
    "import pandas as pd\n",
    "import skimage as ski\n",
    "from pathlib import Path\n",
    "import xml.etree.ElementTree as et \n",
    "import numpy as np\n",
    "\n",
    "def match_png_align(png_file_path, align_file_path):\n",
    "    \"\"\"Tests if png and align file IDs are the same.\"\"\"\n",
    "    png_lst = str(png_file_path.name).split(\"_\")\n",
    "    align_lst = str(align_file_path.name).split(\"_\")\n",
    "    if png_lst[1] == align_lst[1] \\\n",
    "    and png_lst[2] == align_lst[2] \\\n",
    "    and png_lst[3] == align_lst[3] \\\n",
    "    and png_lst[-1][:-4] == align_lst[-1][:-6]:\n",
    "        return (png_file_path, align_file_path)\n",
    "\n",
    "\n",
    "def read_transform_inputs_png(meta_path):\n",
    "    \"\"\"Reads xml info about the scanned image used to transform coordinates\"\"\"\n",
    "    xtree = et.parse(meta_path)\n",
    "    root = xtree.getroot()\n",
    "    center_info = root[0][2].text.split(\",\")\n",
    "    size_info = root[0][3].text.split(\",\")\n",
    "    extra_info = root[0][0].text.split(\";\")\n",
    "    return {\"rotation\": float(root[0][1].text), \n",
    "           \"center_x\": float(center_info[0]),\n",
    "           \"center_y\" : float(center_info[1]),\n",
    "           \"size_x\" : float(size_info[0]),\n",
    "           \"size_y\" : float(size_info[1]),\n",
    "           \"brightness\": float(extra_info[0].split(\"=\")[1]),\n",
    "           \"contrast\": float(extra_info[1].split(\"=\")[1]),\n",
    "           \"autoexposure\": float(extra_info[2].split(\"=\")[1]),\n",
    "           \"exposuretime\": float(extra_info[3].split(\"=\")[1])}\n",
    "\n",
    "def read_transform_inputs_datum(datum_path):\n",
    "    xtree = et.parse(datum_path)\n",
    "    root = xtree.getroot()\n",
    "    return {\n",
    "        \"rotation\" : float(root[0][0].text),\n",
    "        \"center_x\" : float(root[0][1].text.split(\",\")[0]),\n",
    "        \"center_y\" : float(root[0][1].text.split(\",\")[1]),\n",
    "        \"size_x\" : float(root[0][2].text.split(\",\")[0]),\n",
    "        \"size_y\" : float(root[0][2].text.split(\",\")[1]),\n",
    "        \"focus\" : float(root[0][3].text)\n",
    "    }\n",
    "\n",
    "images_p = Path(\"images/\")\n",
    "\n",
    "align_paths = list(images_p.glob(\"ScanImage*.Align\"))\n",
    "png_paths = list(images_p.glob(\"ScanImage*.png\"))\n",
    "\n",
    "matches = []\n",
    "for a in align_paths:\n",
    "    for p in png_paths:\n",
    "        if match_png_align(p, a):\n",
    "            matches.append((p,a))\n",
    "\n",
    "image_df = pd.DataFrame(matches, columns=[\"png\",\"meta\"])\n",
    "\n",
    "\n",
    "image_df = image_df.join(pd.json_normalize(image_df.meta.apply(read_transform_inputs_png)))\n",
    "\n",
    "image_df['source_shape'] = image_df.png.apply(lambda x: ski.io.imread(x).shape)\n",
    "\n",
    "image_df = image_df.join(pd.DataFrame(image_df['source_shape'].tolist(), index=image_df.index, columns=[\"source_size_y\", \"source_size_x\", \"source_size_band\"])  )  \n",
    "\n",
    "datum_im_p = list(images_p.glob(\"Image_1*\"))[0]\n",
    "datum_align_p = list(images_p.glob(\"Image_1*\"))[1]"
   ]
  },
  {
   "cell_type": "markdown",
   "metadata": {},
   "source": [
    "# Defining the transform for each png"
   ]
  },
  {
   "cell_type": "markdown",
   "metadata": {},
   "source": [
    "The format for the transfrm is (uperleftx, scalex, skewx, uperlefty, skewy, scaley) and defines how to map pixel coordinates to CRS coordinates. The only thing missing is a custom CRS that is defined from the datum image metadata."
   ]
  },
  {
   "cell_type": "markdown",
   "metadata": {},
   "source": [
    "X and Y pixel resolution of the datum image"
   ]
  },
  {
   "cell_type": "code",
   "execution_count": 7,
   "metadata": {},
   "outputs": [],
   "source": [
    "image_df['resolution_x'] = image_df['size_x'] / image_df['source_size_x']\n",
    "image_df['resolution_y'] = image_df['size_y'] / image_df['source_size_y']"
   ]
  },
  {
   "cell_type": "markdown",
   "metadata": {},
   "source": [
    "Since we know the center and size in projection coordinate of each png scan, we can get the upper left."
   ]
  },
  {
   "cell_type": "code",
   "execution_count": 8,
   "metadata": {},
   "outputs": [],
   "source": [
    "image_df['upleftx'] = image_df.center_x - image_df.size_x / 2\n",
    "image_df['uplefty'] = image_df.center_y - image_df.size_y / 2"
   ]
  },
  {
   "cell_type": "code",
   "execution_count": 10,
   "metadata": {},
   "outputs": [],
   "source": [
    "import affine\n"
   ]
  },
  {
   "cell_type": "code",
   "execution_count": 11,
   "metadata": {},
   "outputs": [],
   "source": [
    "# Specify raster location through geotransform array\n",
    "# (uperleftx, scalex, skewx, uperlefty, skewy, scaley)\n",
    "image_df[\"affine_transform\"] = image_df.apply(lambda row: affine.Affine(row['upleftx'], row['resolution_x'], row['rotation'], row['uplefty'], row['rotation'], -row['resolution_y']), axis=1)"
   ]
  },
  {
   "cell_type": "markdown",
   "metadata": {},
   "source": [
    "# Defining the custom CRS, how do I do this with WKT version 1?\n",
    "\n",
    "I'm unsure how this rotation should be used (it's only present in the reference datum image). Were all png images captured under this rotation, i.e., are their rotations relative to this already rotated image? Assuming that they are for now. If this is incorrect, the row rotation above needs adjusting."
   ]
  },
  {
   "cell_type": "code",
   "execution_count": 37,
   "metadata": {},
   "outputs": [
    {
     "data": {
      "text/plain": [
       "{'rotation': 0.53,\n",
       " 'center_x': 42085.0,\n",
       " 'center_y': 47699.0,\n",
       " 'size_x': 117207.0,\n",
       " 'size_y': 104307.0,\n",
       " 'focus': 0.0}"
      ]
     },
     "execution_count": 37,
     "metadata": {},
     "output_type": "execute_result"
    }
   ],
   "source": [
    "datum_meta = read_transform_inputs_datum(datum_align_p)\n",
    "datum_meta"
   ]
  },
  {
   "cell_type": "code",
   "execution_count": 36,
   "metadata": {},
   "outputs": [],
   "source": [
    "from rasterio.crs import CRS"
   ]
  },
  {
   "cell_type": "markdown",
   "metadata": {},
   "source": [
    "Rasterio supports defining a CRS from WKT version 1 for versions above 1.0.14"
   ]
  },
  {
   "cell_type": "code",
   "execution_count": null,
   "metadata": {},
   "outputs": [],
   "source": [
    "custom_WKT_string = ????"
   ]
  },
  {
   "cell_type": "code",
   "execution_count": null,
   "metadata": {},
   "outputs": [],
   "source": [
    "CRS.from_wkt(custom_WKT_string)"
   ]
  },
  {
   "cell_type": "code",
   "execution_count": null,
   "metadata": {},
   "outputs": [],
   "source": []
  },
  {
   "cell_type": "markdown",
   "metadata": {},
   "source": [
    "### After defining the custom crs we can reproject each image and save to a geotiff. Probably need to use calculate_default_transform to ge tthe width and height of the output."
   ]
  },
  {
   "cell_type": "code",
   "execution_count": null,
   "metadata": {},
   "outputs": [],
   "source": [
    "from rasterio.warp import reproject"
   ]
  },
  {
   "cell_type": "code",
   "execution_count": 13,
   "metadata": {},
   "outputs": [],
   "source": [
    "transform=image_df[\"affine_transform\"][0]"
   ]
  },
  {
   "cell_type": "code",
   "execution_count": null,
   "metadata": {},
   "outputs": [],
   "source": []
  },
  {
   "cell_type": "code",
   "execution_count": 22,
   "metadata": {},
   "outputs": [],
   "source": [
    "kwargs = {}\n",
    "kwargs.update({\n",
    "        'transform': transform,\n",
    "        'driver': \"GTIFF\",\n",
    "        'dtype' : \"uint8\",\n",
    "        'count': 3,\n",
    "        'width':\n",
    "        'height':\n",
    "    })"
   ]
  },
  {
   "cell_type": "code",
   "execution_count": null,
   "metadata": {},
   "outputs": [],
   "source": [
    "driver\n",
    "\n",
    "width, height\n",
    "\n",
    "count\n",
    "\n",
    "dtype\n",
    "\n",
    "crs\n",
    "\n",
    "transform"
   ]
  },
  {
   "cell_type": "code",
   "execution_count": 27,
   "metadata": {},
   "outputs": [],
   "source": [
    "dst = np.zeros_like(png_arr)"
   ]
  },
  {
   "cell_type": "code",
   "execution_count": 31,
   "metadata": {},
   "outputs": [
    {
     "ename": "CRSError",
     "evalue": "Missing src_crs.",
     "output_type": "error",
     "traceback": [
      "\u001b[0;31m---------------------------------------------------------------------------\u001b[0m",
      "\u001b[0;31mCRSError\u001b[0m                                  Traceback (most recent call last)",
      "\u001b[0;32m<ipython-input-31-c7ad4cf57e44>\u001b[0m in \u001b[0;36m<module>\u001b[0;34m\u001b[0m\n\u001b[1;32m      5\u001b[0m         \u001b[0msrc_transform\u001b[0m \u001b[0;34m=\u001b[0m \u001b[0mtransform\u001b[0m\u001b[0;34m,\u001b[0m\u001b[0;34m\u001b[0m\u001b[0;34m\u001b[0m\u001b[0m\n\u001b[1;32m      6\u001b[0m         \u001b[0mdestination\u001b[0m\u001b[0;34m=\u001b[0m\u001b[0mdst\u001b[0m\u001b[0;34m,\u001b[0m\u001b[0;34m\u001b[0m\u001b[0;34m\u001b[0m\u001b[0m\n\u001b[0;32m----> 7\u001b[0;31m         resampling=Resampling.bilinear)\n\u001b[0m",
      "\u001b[0;32m~/miniconda3/lib/python3.7/site-packages/rasterio/env.py\u001b[0m in \u001b[0;36mwrapper\u001b[0;34m(*args, **kwds)\u001b[0m\n\u001b[1;32m    395\u001b[0m         \u001b[0;32melse\u001b[0m\u001b[0;34m:\u001b[0m\u001b[0;34m\u001b[0m\u001b[0;34m\u001b[0m\u001b[0m\n\u001b[1;32m    396\u001b[0m             \u001b[0;32mwith\u001b[0m \u001b[0mEnv\u001b[0m\u001b[0;34m.\u001b[0m\u001b[0mfrom_defaults\u001b[0m\u001b[0;34m(\u001b[0m\u001b[0;34m)\u001b[0m\u001b[0;34m:\u001b[0m\u001b[0;34m\u001b[0m\u001b[0;34m\u001b[0m\u001b[0m\n\u001b[0;32m--> 397\u001b[0;31m                 \u001b[0;32mreturn\u001b[0m \u001b[0mf\u001b[0m\u001b[0;34m(\u001b[0m\u001b[0;34m*\u001b[0m\u001b[0margs\u001b[0m\u001b[0;34m,\u001b[0m \u001b[0;34m**\u001b[0m\u001b[0mkwds\u001b[0m\u001b[0;34m)\u001b[0m\u001b[0;34m\u001b[0m\u001b[0;34m\u001b[0m\u001b[0m\n\u001b[0m\u001b[1;32m    398\u001b[0m     \u001b[0;32mreturn\u001b[0m \u001b[0mwrapper\u001b[0m\u001b[0;34m\u001b[0m\u001b[0;34m\u001b[0m\u001b[0m\n\u001b[1;32m    399\u001b[0m \u001b[0;34m\u001b[0m\u001b[0m\n",
      "\u001b[0;32m~/miniconda3/lib/python3.7/site-packages/rasterio/env.py\u001b[0m in \u001b[0;36mwrapper\u001b[0;34m(*args, **kwds)\u001b[0m\n\u001b[1;32m    618\u001b[0m                                 param, full_kwds[param], inequality, version, reason))\n\u001b[1;32m    619\u001b[0m \u001b[0;34m\u001b[0m\u001b[0m\n\u001b[0;32m--> 620\u001b[0;31m             \u001b[0;32mreturn\u001b[0m \u001b[0mf\u001b[0m\u001b[0;34m(\u001b[0m\u001b[0;34m*\u001b[0m\u001b[0margs\u001b[0m\u001b[0;34m,\u001b[0m \u001b[0;34m**\u001b[0m\u001b[0mkwds\u001b[0m\u001b[0;34m)\u001b[0m\u001b[0;34m\u001b[0m\u001b[0;34m\u001b[0m\u001b[0m\n\u001b[0m\u001b[1;32m    621\u001b[0m \u001b[0;34m\u001b[0m\u001b[0m\n\u001b[1;32m    622\u001b[0m         \u001b[0;32mreturn\u001b[0m \u001b[0mwrapper\u001b[0m\u001b[0;34m\u001b[0m\u001b[0;34m\u001b[0m\u001b[0m\n",
      "\u001b[0;32m~/miniconda3/lib/python3.7/site-packages/rasterio/warp.py\u001b[0m in \u001b[0;36mreproject\u001b[0;34m(source, destination, src_transform, gcps, src_crs, src_nodata, dst_transform, dst_crs, dst_nodata, src_alpha, dst_alpha, resampling, num_threads, init_dest_nodata, warp_mem_limit, **kwargs)\u001b[0m\n\u001b[1;32m    295\u001b[0m         \u001b[0msrc_alpha\u001b[0m\u001b[0;34m=\u001b[0m\u001b[0msrc_alpha\u001b[0m\u001b[0;34m,\u001b[0m \u001b[0mresampling\u001b[0m\u001b[0;34m=\u001b[0m\u001b[0mresampling\u001b[0m\u001b[0;34m,\u001b[0m\u001b[0;34m\u001b[0m\u001b[0;34m\u001b[0m\u001b[0m\n\u001b[1;32m    296\u001b[0m         \u001b[0minit_dest_nodata\u001b[0m\u001b[0;34m=\u001b[0m\u001b[0minit_dest_nodata\u001b[0m\u001b[0;34m,\u001b[0m \u001b[0mnum_threads\u001b[0m\u001b[0;34m=\u001b[0m\u001b[0mnum_threads\u001b[0m\u001b[0;34m,\u001b[0m\u001b[0;34m\u001b[0m\u001b[0;34m\u001b[0m\u001b[0m\n\u001b[0;32m--> 297\u001b[0;31m         warp_mem_limit=warp_mem_limit, **kwargs)\n\u001b[0m\u001b[1;32m    298\u001b[0m \u001b[0;34m\u001b[0m\u001b[0m\n\u001b[1;32m    299\u001b[0m \u001b[0;34m\u001b[0m\u001b[0m\n",
      "\u001b[0;32mrasterio/_warp.pyx\u001b[0m in \u001b[0;36mrasterio._warp._reproject\u001b[0;34m()\u001b[0m\n",
      "\u001b[0;31mCRSError\u001b[0m: Missing src_crs."
     ]
    }
   ],
   "source": [
    "from rasterio.warp import reproject\n",
    "from rasterio.enums import Resampling\n",
    "reproject(\n",
    "        source=png_arr,\n",
    "        src_transform = transform,\n",
    "        destination=dst,\n",
    "        resampling=Resampling.bilinear)"
   ]
  },
  {
   "cell_type": "code",
   "execution_count": 23,
   "metadata": {},
   "outputs": [
    {
     "ename": "TypeError",
     "evalue": "Integer width and height are required.",
     "output_type": "error",
     "traceback": [
      "\u001b[0;31m---------------------------------------------------------------------------\u001b[0m",
      "\u001b[0;31mTypeError\u001b[0m                                 Traceback (most recent call last)",
      "\u001b[0;32mrasterio/_io.pyx\u001b[0m in \u001b[0;36mrasterio._io.DatasetWriterBase.__init__\u001b[0;34m()\u001b[0m\n",
      "\u001b[0;31mTypeError\u001b[0m: int() argument must be a string, a bytes-like object or a number, not 'NoneType'",
      "\nDuring handling of the above exception, another exception occurred:\n",
      "\u001b[0;31mTypeError\u001b[0m                                 Traceback (most recent call last)",
      "\u001b[0;32m<ipython-input-23-d2080fe0978a>\u001b[0m in \u001b[0;36m<module>\u001b[0;34m\u001b[0m\n\u001b[1;32m      1\u001b[0m \u001b[0;32mimport\u001b[0m \u001b[0mrasterio\u001b[0m\u001b[0;34m\u001b[0m\u001b[0;34m\u001b[0m\u001b[0m\n\u001b[0;32m----> 2\u001b[0;31m \u001b[0;32mwith\u001b[0m \u001b[0mrasterio\u001b[0m\u001b[0;34m.\u001b[0m\u001b[0mopen\u001b[0m\u001b[0;34m(\u001b[0m\u001b[0;34m'outputs/RGB.tif'\u001b[0m\u001b[0;34m,\u001b[0m \u001b[0;34m'w'\u001b[0m\u001b[0;34m,\u001b[0m \u001b[0;34m**\u001b[0m\u001b[0mkwargs\u001b[0m\u001b[0;34m)\u001b[0m \u001b[0;32mas\u001b[0m \u001b[0mdst\u001b[0m\u001b[0;34m:\u001b[0m \u001b[0;31m#need to define kwargs\u001b[0m\u001b[0;34m\u001b[0m\u001b[0;34m\u001b[0m\u001b[0m\n\u001b[0m\u001b[1;32m      3\u001b[0m     reproject(\n\u001b[1;32m      4\u001b[0m         \u001b[0msource\u001b[0m\u001b[0;34m=\u001b[0m\u001b[0mpng_arr\u001b[0m\u001b[0;34m,\u001b[0m\u001b[0;34m\u001b[0m\u001b[0;34m\u001b[0m\u001b[0m\n\u001b[1;32m      5\u001b[0m         \u001b[0msrc_transform\u001b[0m \u001b[0;34m=\u001b[0m \u001b[0mtransform\u001b[0m\u001b[0;34m,\u001b[0m\u001b[0;34m\u001b[0m\u001b[0;34m\u001b[0m\u001b[0m\n",
      "\u001b[0;32m~/miniconda3/lib/python3.7/site-packages/rasterio/env.py\u001b[0m in \u001b[0;36mwrapper\u001b[0;34m(*args, **kwds)\u001b[0m\n\u001b[1;32m    443\u001b[0m \u001b[0;34m\u001b[0m\u001b[0m\n\u001b[1;32m    444\u001b[0m         \u001b[0;32mwith\u001b[0m \u001b[0menv_ctor\u001b[0m\u001b[0;34m(\u001b[0m\u001b[0msession\u001b[0m\u001b[0;34m=\u001b[0m\u001b[0msession\u001b[0m\u001b[0;34m)\u001b[0m\u001b[0;34m:\u001b[0m\u001b[0;34m\u001b[0m\u001b[0;34m\u001b[0m\u001b[0m\n\u001b[0;32m--> 445\u001b[0;31m             \u001b[0;32mreturn\u001b[0m \u001b[0mf\u001b[0m\u001b[0;34m(\u001b[0m\u001b[0;34m*\u001b[0m\u001b[0margs\u001b[0m\u001b[0;34m,\u001b[0m \u001b[0;34m**\u001b[0m\u001b[0mkwds\u001b[0m\u001b[0;34m)\u001b[0m\u001b[0;34m\u001b[0m\u001b[0;34m\u001b[0m\u001b[0m\n\u001b[0m\u001b[1;32m    446\u001b[0m \u001b[0;34m\u001b[0m\u001b[0m\n\u001b[1;32m    447\u001b[0m     \u001b[0;32mreturn\u001b[0m \u001b[0mwrapper\u001b[0m\u001b[0;34m\u001b[0m\u001b[0;34m\u001b[0m\u001b[0m\n",
      "\u001b[0;32m~/miniconda3/lib/python3.7/site-packages/rasterio/__init__.py\u001b[0m in \u001b[0;36mopen\u001b[0;34m(fp, mode, driver, width, height, count, crs, transform, dtype, nodata, sharing, **kwargs)\u001b[0m\n\u001b[1;32m    224\u001b[0m                                               \u001b[0mdtype\u001b[0m\u001b[0;34m=\u001b[0m\u001b[0mdtype\u001b[0m\u001b[0;34m,\u001b[0m \u001b[0mnodata\u001b[0m\u001b[0;34m=\u001b[0m\u001b[0mnodata\u001b[0m\u001b[0;34m,\u001b[0m\u001b[0;34m\u001b[0m\u001b[0;34m\u001b[0m\u001b[0m\n\u001b[1;32m    225\u001b[0m                                               \u001b[0msharing\u001b[0m\u001b[0;34m=\u001b[0m\u001b[0msharing\u001b[0m\u001b[0;34m,\u001b[0m\u001b[0;34m\u001b[0m\u001b[0;34m\u001b[0m\u001b[0m\n\u001b[0;32m--> 226\u001b[0;31m                                               **kwargs)\n\u001b[0m\u001b[1;32m    227\u001b[0m         \u001b[0;32melse\u001b[0m\u001b[0;34m:\u001b[0m\u001b[0;34m\u001b[0m\u001b[0;34m\u001b[0m\u001b[0m\n\u001b[1;32m    228\u001b[0m             raise ValueError(\n",
      "\u001b[0;32mrasterio/_io.pyx\u001b[0m in \u001b[0;36mrasterio._io.DatasetWriterBase.__init__\u001b[0;34m()\u001b[0m\n",
      "\u001b[0;31mTypeError\u001b[0m: Integer width and height are required."
     ]
    }
   ],
   "source": [
    "import rasterio\n",
    "with rasterio.open('outputs/RGB.tif', 'w', **kwargs) as dst: #need to define kwargs\n",
    "    reproject(\n",
    "        source=png_arr,\n",
    "        src_transform = transform,\n",
    "        destination=dst,\n",
    "        resampling=Resampling.bilinear)"
   ]
  },
  {
   "cell_type": "code",
   "execution_count": null,
   "metadata": {},
   "outputs": [],
   "source": [
    "\n",
    "\n",
    "datum_arr = ski.io.imread(datum_im_p)\n",
    "ski.io.imshow(datum_arr)\n",
    "\n",
    "png_arr = ski.io.imread(image_df.png[0])\n",
    "\n",
    "ski.io.imshow(png_arr)"
   ]
  }
 ],
 "metadata": {
  "kernelspec": {
   "display_name": "Python 3",
   "language": "python",
   "name": "python3"
  },
  "language_info": {
   "codemirror_mode": {
    "name": "ipython",
    "version": 3
   },
   "file_extension": ".py",
   "mimetype": "text/x-python",
   "name": "python",
   "nbconvert_exporter": "python",
   "pygments_lexer": "ipython3",
   "version": "3.7.3"
  }
 },
 "nbformat": 4,
 "nbformat_minor": 4
}
